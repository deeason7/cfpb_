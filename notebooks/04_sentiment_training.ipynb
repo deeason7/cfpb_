{
 "cells": [
  {
   "cell_type": "code",
   "execution_count": 1,
   "id": "fc118db6-3df9-40d3-a6d9-8bbba87c3039",
   "metadata": {},
   "outputs": [],
   "source": [
    "import numpy as np\n",
    "import pandas as pd\n",
    "import matplotlib.pyplot as plt\n",
    "import seaborn as sns"
   ]
  },
  {
   "cell_type": "code",
   "execution_count": 2,
   "id": "1a1204a4-d8b5-4c88-bdba-b91bfba04455",
   "metadata": {},
   "outputs": [],
   "source": [
    "import os\n",
    "import sys\n",
    "project_root = os.path.abspath(\"..\")\n",
    "if project_root not in sys.path:\n",
    "    sys.path.append(project_root)"
   ]
  },
  {
   "cell_type": "code",
   "execution_count": 3,
   "id": "62b50bfb-1416-4011-911c-ddb515937fea",
   "metadata": {},
   "outputs": [],
   "source": [
    "from src.modeling.train_sentiment import train_and_evaluate_sentiment"
   ]
  },
  {
   "cell_type": "code",
   "execution_count": 4,
   "id": "c50a8c94-8a17-4d70-828b-891cb5bd823c",
   "metadata": {},
   "outputs": [],
   "source": [
    "sns.set(style=\"whitegrid\")"
   ]
  },
  {
   "cell_type": "markdown",
   "id": "27f6d0ee-4b20-446b-8790-a1776a47da21",
   "metadata": {},
   "source": [
    "## Training & evaluation"
   ]
  },
  {
   "cell_type": "code",
   "execution_count": 5,
   "id": "abecb89e-70f7-44d2-ad74-123a2e4a3eab",
   "metadata": {},
   "outputs": [
    {
     "name": "stdout",
     "output_type": "stream",
     "text": [
      "Epoch 1/30\n",
      "731/731 - 72s - loss: 1.9227 - accuracy: 0.4771 - val_loss: 0.8646 - val_accuracy: 0.6616 - lr: 0.0010 - 72s/epoch - 98ms/step\n",
      "Epoch 2/30\n",
      "731/731 - 234s - loss: 0.7785 - accuracy: 0.6243 - val_loss: 0.5342 - val_accuracy: 0.7245 - lr: 0.0010 - 234s/epoch - 320ms/step\n",
      "Epoch 3/30\n",
      "731/731 - 69s - loss: 0.5334 - accuracy: 0.7135 - val_loss: 0.5219 - val_accuracy: 0.7344 - lr: 0.0010 - 69s/epoch - 95ms/step\n",
      "Epoch 4/30\n",
      "731/731 - 130s - loss: 0.5660 - accuracy: 0.7017 - val_loss: 0.5351 - val_accuracy: 0.7204 - lr: 0.0010 - 130s/epoch - 178ms/step\n",
      "Epoch 5/30\n",
      "731/731 - 71s - loss: 0.5065 - accuracy: 0.7273 - val_loss: 0.5056 - val_accuracy: 0.7401 - lr: 0.0010 - 71s/epoch - 97ms/step\n",
      "Epoch 6/30\n",
      "731/731 - 73s - loss: 0.4065 - accuracy: 0.8162 - val_loss: 0.3169 - val_accuracy: 0.8870 - lr: 0.0010 - 73s/epoch - 99ms/step\n",
      "Epoch 7/30\n",
      "731/731 - 74s - loss: 0.3057 - accuracy: 0.8823 - val_loss: 0.2775 - val_accuracy: 0.9230 - lr: 0.0010 - 74s/epoch - 101ms/step\n",
      "Epoch 8/30\n",
      "731/731 - 74s - loss: 0.2095 - accuracy: 0.9327 - val_loss: 0.1815 - val_accuracy: 0.9456 - lr: 0.0010 - 74s/epoch - 101ms/step\n",
      "Epoch 9/30\n",
      "731/731 - 76s - loss: 0.1922 - accuracy: 0.9351 - val_loss: 0.1887 - val_accuracy: 0.9433 - lr: 0.0010 - 76s/epoch - 105ms/step\n",
      "Epoch 10/30\n",
      "731/731 - 74s - loss: 0.1452 - accuracy: 0.9504 - val_loss: 0.1783 - val_accuracy: 0.9423 - lr: 0.0010 - 74s/epoch - 102ms/step\n",
      "Epoch 11/30\n",
      "731/731 - 74s - loss: 0.1264 - accuracy: 0.9556 - val_loss: 0.1748 - val_accuracy: 0.9469 - lr: 0.0010 - 74s/epoch - 101ms/step\n",
      "Epoch 12/30\n",
      "731/731 - 75s - loss: 0.1189 - accuracy: 0.9591 - val_loss: 0.1939 - val_accuracy: 0.9362 - lr: 0.0010 - 75s/epoch - 102ms/step\n",
      "Epoch 13/30\n",
      "731/731 - 74s - loss: 0.0975 - accuracy: 0.9654 - val_loss: 0.2028 - val_accuracy: 0.9336 - lr: 0.0010 - 74s/epoch - 101ms/step\n",
      "Epoch 14/30\n",
      "731/731 - 81s - loss: 0.0761 - accuracy: 0.9726 - val_loss: 0.2505 - val_accuracy: 0.9269 - lr: 5.0000e-04 - 81s/epoch - 111ms/step\n",
      "Epoch 15/30\n",
      "731/731 - 74s - loss: 0.0609 - accuracy: 0.9786 - val_loss: 0.2303 - val_accuracy: 0.9354 - lr: 5.0000e-04 - 74s/epoch - 101ms/step\n",
      "314/314 [==============================] - 6s 19ms/step\n",
      "Sentiment model trained and evaluated on test data.\n",
      "Sentiment model pipeline executed.\n"
     ]
    }
   ],
   "source": [
    "# Step 1: Execute model training and evaluation\n",
    "train_and_evaluate_sentiment()\n",
    "print(\"Sentiment model pipeline executed.\")"
   ]
  },
  {
   "cell_type": "code",
   "execution_count": 6,
   "id": "d6623141-b2eb-40e0-a50f-eac6e83d8f32",
   "metadata": {},
   "outputs": [],
   "source": [
    "# Load metrics report\n",
    "import json\n",
    "with open(\"../outputs/sentiment_accuracy.txt\", \"r\") as f:\n",
    "    report = json.load(f)"
   ]
  },
  {
   "cell_type": "code",
   "execution_count": 7,
   "id": "0f769d72-86ba-4e7d-b65e-c506382172b4",
   "metadata": {},
   "outputs": [
    {
     "data": {
      "text/html": [
       "<div>\n",
       "<style scoped>\n",
       "    .dataframe tbody tr th:only-of-type {\n",
       "        vertical-align: middle;\n",
       "    }\n",
       "\n",
       "    .dataframe tbody tr th {\n",
       "        vertical-align: top;\n",
       "    }\n",
       "\n",
       "    .dataframe thead th {\n",
       "        text-align: right;\n",
       "    }\n",
       "</style>\n",
       "<table border=\"1\" class=\"dataframe\">\n",
       "  <thead>\n",
       "    <tr style=\"text-align: right;\">\n",
       "      <th></th>\n",
       "      <th>precision</th>\n",
       "      <th>recall</th>\n",
       "      <th>f1-score</th>\n",
       "      <th>support</th>\n",
       "    </tr>\n",
       "  </thead>\n",
       "  <tbody>\n",
       "    <tr>\n",
       "      <th>extreme_negative</th>\n",
       "      <td>0.971</td>\n",
       "      <td>0.971</td>\n",
       "      <td>0.971</td>\n",
       "      <td>2695.000</td>\n",
       "    </tr>\n",
       "    <tr>\n",
       "      <th>negative</th>\n",
       "      <td>0.957</td>\n",
       "      <td>0.901</td>\n",
       "      <td>0.928</td>\n",
       "      <td>3943.000</td>\n",
       "    </tr>\n",
       "    <tr>\n",
       "      <th>neutral</th>\n",
       "      <td>0.907</td>\n",
       "      <td>0.970</td>\n",
       "      <td>0.938</td>\n",
       "      <td>3383.000</td>\n",
       "    </tr>\n",
       "    <tr>\n",
       "      <th>accuracy</th>\n",
       "      <td>0.943</td>\n",
       "      <td>0.943</td>\n",
       "      <td>0.943</td>\n",
       "      <td>0.943</td>\n",
       "    </tr>\n",
       "    <tr>\n",
       "      <th>macro avg</th>\n",
       "      <td>0.945</td>\n",
       "      <td>0.947</td>\n",
       "      <td>0.945</td>\n",
       "      <td>10021.000</td>\n",
       "    </tr>\n",
       "    <tr>\n",
       "      <th>weighted avg</th>\n",
       "      <td>0.944</td>\n",
       "      <td>0.943</td>\n",
       "      <td>0.943</td>\n",
       "      <td>10021.000</td>\n",
       "    </tr>\n",
       "  </tbody>\n",
       "</table>\n",
       "</div>"
      ],
      "text/plain": [
       "                  precision  recall  f1-score    support\n",
       "extreme_negative      0.971   0.971     0.971   2695.000\n",
       "negative              0.957   0.901     0.928   3943.000\n",
       "neutral               0.907   0.970     0.938   3383.000\n",
       "accuracy              0.943   0.943     0.943      0.943\n",
       "macro avg             0.945   0.947     0.945  10021.000\n",
       "weighted avg          0.944   0.943     0.943  10021.000"
      ]
     },
     "metadata": {},
     "output_type": "display_data"
    }
   ],
   "source": [
    "# Convert classification report to DataFrame\n",
    "report_df = pd.DataFrame(report).T\n",
    "report_df = report_df.round(3)\n",
    "display(report_df)"
   ]
  },
  {
   "cell_type": "code",
   "execution_count": 8,
   "id": "fd678fba-bd94-43a1-9c61-b853a3e49960",
   "metadata": {},
   "outputs": [
    {
     "data": {
      "text/plain": [
       "<Figure size 1000x400 with 0 Axes>"
      ]
     },
     "metadata": {},
     "output_type": "display_data"
    },
    {
     "data": {
      "image/png": "[encoded data removed]",
      "text/plain": [
       "<Figure size 640x480 with 1 Axes>"
      ]
     },
     "metadata": {},
     "output_type": "display_data"
    }
   ],
   "source": [
    "#  Visualize key performance metrics\n",
    "plt.figure(figsize=(10, 4))\n",
    "report_df.loc[[\"neutral\", \"negative\", \"extreme_negative\"], [\"precision\", \"recall\", \"f1-score\"]].plot(kind=\"bar\")\n",
    "plt.title(\" Sentiment Classification Performance by Class\")\n",
    "plt.ylabel(\"Score\")\n",
    "plt.ylim(0, 1)\n",
    "plt.xticks(rotation=0)\n",
    "plt.grid(axis=\"y\", linestyle=\"--\", alpha=0.6)\n",
    "plt.show()"
   ]
  },
  {
   "cell_type": "code",
   "execution_count": 9,
   "id": "eb43c520-8c6f-4db1-adf8-fb9b681968e9",
   "metadata": {},
   "outputs": [
    {
     "data": {
      "text/html": [
       "<div>\n",
       "<style scoped>\n",
       "    .dataframe tbody tr th:only-of-type {\n",
       "        vertical-align: middle;\n",
       "    }\n",
       "\n",
       "    .dataframe tbody tr th {\n",
       "        vertical-align: top;\n",
       "    }\n",
       "\n",
       "    .dataframe thead th {\n",
       "        text-align: right;\n",
       "    }\n",
       "</style>\n",
       "<table border=\"1\" class=\"dataframe\">\n",
       "  <thead>\n",
       "    <tr style=\"text-align: right;\">\n",
       "      <th></th>\n",
       "      <th>true_sentiment</th>\n",
       "      <th>predicted_sentiment</th>\n",
       "    </tr>\n",
       "  </thead>\n",
       "  <tbody>\n",
       "    <tr>\n",
       "      <th>7521</th>\n",
       "      <td>extreme_negative</td>\n",
       "      <td>extreme_negative</td>\n",
       "    </tr>\n",
       "    <tr>\n",
       "      <th>9301</th>\n",
       "      <td>negative</td>\n",
       "      <td>negative</td>\n",
       "    </tr>\n",
       "    <tr>\n",
       "      <th>6672</th>\n",
       "      <td>negative</td>\n",
       "      <td>extreme_negative</td>\n",
       "    </tr>\n",
       "    <tr>\n",
       "      <th>3783</th>\n",
       "      <td>neutral</td>\n",
       "      <td>neutral</td>\n",
       "    </tr>\n",
       "    <tr>\n",
       "      <th>6148</th>\n",
       "      <td>neutral</td>\n",
       "      <td>neutral</td>\n",
       "    </tr>\n",
       "    <tr>\n",
       "      <th>8968</th>\n",
       "      <td>neutral</td>\n",
       "      <td>neutral</td>\n",
       "    </tr>\n",
       "    <tr>\n",
       "      <th>6746</th>\n",
       "      <td>extreme_negative</td>\n",
       "      <td>extreme_negative</td>\n",
       "    </tr>\n",
       "    <tr>\n",
       "      <th>1240</th>\n",
       "      <td>neutral</td>\n",
       "      <td>neutral</td>\n",
       "    </tr>\n",
       "    <tr>\n",
       "      <th>9080</th>\n",
       "      <td>negative</td>\n",
       "      <td>negative</td>\n",
       "    </tr>\n",
       "    <tr>\n",
       "      <th>7821</th>\n",
       "      <td>extreme_negative</td>\n",
       "      <td>extreme_negative</td>\n",
       "    </tr>\n",
       "    <tr>\n",
       "      <th>7775</th>\n",
       "      <td>extreme_negative</td>\n",
       "      <td>extreme_negative</td>\n",
       "    </tr>\n",
       "    <tr>\n",
       "      <th>2102</th>\n",
       "      <td>extreme_negative</td>\n",
       "      <td>extreme_negative</td>\n",
       "    </tr>\n",
       "    <tr>\n",
       "      <th>562</th>\n",
       "      <td>neutral</td>\n",
       "      <td>neutral</td>\n",
       "    </tr>\n",
       "    <tr>\n",
       "      <th>4527</th>\n",
       "      <td>neutral</td>\n",
       "      <td>neutral</td>\n",
       "    </tr>\n",
       "    <tr>\n",
       "      <th>2430</th>\n",
       "      <td>negative</td>\n",
       "      <td>negative</td>\n",
       "    </tr>\n",
       "    <tr>\n",
       "      <th>8299</th>\n",
       "      <td>extreme_negative</td>\n",
       "      <td>extreme_negative</td>\n",
       "    </tr>\n",
       "    <tr>\n",
       "      <th>1940</th>\n",
       "      <td>negative</td>\n",
       "      <td>negative</td>\n",
       "    </tr>\n",
       "    <tr>\n",
       "      <th>5431</th>\n",
       "      <td>negative</td>\n",
       "      <td>negative</td>\n",
       "    </tr>\n",
       "    <tr>\n",
       "      <th>1523</th>\n",
       "      <td>extreme_negative</td>\n",
       "      <td>extreme_negative</td>\n",
       "    </tr>\n",
       "    <tr>\n",
       "      <th>396</th>\n",
       "      <td>neutral</td>\n",
       "      <td>neutral</td>\n",
       "    </tr>\n",
       "  </tbody>\n",
       "</table>\n",
       "</div>"
      ],
      "text/plain": [
       "        true_sentiment predicted_sentiment\n",
       "7521  extreme_negative    extreme_negative\n",
       "9301          negative            negative\n",
       "6672          negative    extreme_negative\n",
       "3783           neutral             neutral\n",
       "6148           neutral             neutral\n",
       "8968           neutral             neutral\n",
       "6746  extreme_negative    extreme_negative\n",
       "1240           neutral             neutral\n",
       "9080          negative            negative\n",
       "7821  extreme_negative    extreme_negative\n",
       "7775  extreme_negative    extreme_negative\n",
       "2102  extreme_negative    extreme_negative\n",
       "562            neutral             neutral\n",
       "4527           neutral             neutral\n",
       "2430          negative            negative\n",
       "8299  extreme_negative    extreme_negative\n",
       "1940          negative            negative\n",
       "5431          negative            negative\n",
       "1523  extreme_negative    extreme_negative\n",
       "396            neutral             neutral"
      ]
     },
     "metadata": {},
     "output_type": "display_data"
    }
   ],
   "source": [
    "#  Sample predictions\n",
    "pred_df = pd.read_csv(\"../outputs/predictions_sentiment.csv\")\n",
    "display(pred_df.sample(20))"
   ]
  }
 ],
 "metadata": {
  "kernelspec": {
   "display_name": "Python 3.8 (TensorFlow)",
   "language": "python",
   "name": "tf-3.8"
  },
  "language_info": {
   "codemirror_mode": {
    "name": "ipython",
    "version": 3
   },
   "file_extension": ".py",
   "mimetype": "text/x-python",
   "name": "python",
   "nbconvert_exporter": "python",
   "pygments_lexer": "ipython3",
   "version": "3.8.10"
  }
 },
 "nbformat": 4,
 "nbformat_minor": 5
}
