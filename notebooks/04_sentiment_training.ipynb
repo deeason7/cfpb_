{
 "cells": [
  {
   "cell_type": "code",
   "execution_count": 1,
   "id": "fc118db6-3df9-40d3-a6d9-8bbba87c3039",
   "metadata": {},
   "outputs": [],
   "source": [
    "import numpy as np\n",
    "import pandas as pd\n",
    "import matplotlib.pyplot as plt\n",
    "import seaborn as sns"
   ]
  },
  {
   "cell_type": "code",
   "execution_count": 2,
   "id": "1a1204a4-d8b5-4c88-bdba-b91bfba04455",
   "metadata": {},
   "outputs": [],
   "source": [
    "import os\n",
    "import sys\n",
    "project_root = os.path.abspath(\"..\")\n",
    "if project_root not in sys.path:\n",
    "    sys.path.append(project_root)"
   ]
  },
  {
   "cell_type": "code",
   "execution_count": 3,
   "id": "62b50bfb-1416-4011-911c-ddb515937fea",
   "metadata": {},
   "outputs": [],
   "source": [
    "from src.modeling.train_sentiment import train_and_evaluate_sentiment"
   ]
  },
  {
   "cell_type": "code",
   "execution_count": 4,
   "id": "c50a8c94-8a17-4d70-828b-891cb5bd823c",
   "metadata": {},
   "outputs": [],
   "source": [
    "sns.set(style=\"whitegrid\")"
   ]
  },
  {
   "cell_type": "markdown",
   "id": "27f6d0ee-4b20-446b-8790-a1776a47da21",
   "metadata": {},
   "source": [
    "## Training & evaluation"
   ]
  },
  {
   "cell_type": "code",
   "execution_count": 5,
   "id": "abecb89e-70f7-44d2-ad74-123a2e4a3eab",
   "metadata": {},
   "outputs": [
    {
     "name": "stdout",
     "output_type": "stream",
     "text": [
      "Epoch 1/30\n",
      "836/836 - 76s - loss: 0.9078 - accuracy: 0.4374 - val_loss: 0.8397 - val_accuracy: 0.5186 - lr: 0.0010 - 76s/epoch - 91ms/step\n",
      "Epoch 2/30\n",
      "836/836 - 75s - loss: 1.0287 - accuracy: 0.4308 - val_loss: 0.9839 - val_accuracy: 0.4127 - lr: 0.0010 - 75s/epoch - 90ms/step\n",
      "Epoch 3/30\n",
      "836/836 - 75s - loss: 0.7768 - accuracy: 0.5429 - val_loss: 0.8138 - val_accuracy: 0.5751 - lr: 0.0010 - 75s/epoch - 90ms/step\n",
      "Epoch 4/30\n",
      "836/836 - 81s - loss: 0.5432 - accuracy: 0.6837 - val_loss: 0.6578 - val_accuracy: 0.7021 - lr: 0.0010 - 81s/epoch - 97ms/step\n",
      "Epoch 5/30\n",
      "836/836 - 79s - loss: 0.4241 - accuracy: 0.7718 - val_loss: 0.5389 - val_accuracy: 0.7875 - lr: 0.0010 - 79s/epoch - 94ms/step\n",
      "Epoch 6/30\n",
      "836/836 - 81s - loss: 0.3163 - accuracy: 0.8445 - val_loss: 0.5015 - val_accuracy: 0.8092 - lr: 0.0010 - 81s/epoch - 97ms/step\n",
      "Epoch 7/30\n",
      "836/836 - 166s - loss: 0.2370 - accuracy: 0.8883 - val_loss: 0.4703 - val_accuracy: 0.8350 - lr: 0.0010 - 166s/epoch - 199ms/step\n",
      "Epoch 8/30\n",
      "836/836 - 79s - loss: 0.1807 - accuracy: 0.9177 - val_loss: 0.5004 - val_accuracy: 0.8386 - lr: 0.0010 - 79s/epoch - 95ms/step\n",
      "Epoch 9/30\n",
      "836/836 - 79s - loss: 0.1400 - accuracy: 0.9372 - val_loss: 0.5901 - val_accuracy: 0.8131 - lr: 0.0010 - 79s/epoch - 95ms/step\n",
      "Epoch 10/30\n",
      "836/836 - 81s - loss: 0.0929 - accuracy: 0.9616 - val_loss: 0.6162 - val_accuracy: 0.8468 - lr: 5.0000e-04 - 81s/epoch - 97ms/step\n",
      "Epoch 11/30\n",
      "836/836 - 83s - loss: 0.0702 - accuracy: 0.9712 - val_loss: 0.6724 - val_accuracy: 0.8471 - lr: 5.0000e-04 - 83s/epoch - 99ms/step\n",
      "418/418 [==============================] - 9s 20ms/step\n",
      "Sentiment model trained, evaluated, and outputs saved.\n",
      "Sentiment model pipeline executed.\n"
     ]
    }
   ],
   "source": [
    "# Step 1: Execute model training and evaluation\n",
    "train_and_evaluate_sentiment()\n",
    "print(\"Sentiment model pipeline executed.\")"
   ]
  },
  {
   "cell_type": "code",
   "execution_count": 6,
   "id": "d6623141-b2eb-40e0-a50f-eac6e83d8f32",
   "metadata": {},
   "outputs": [],
   "source": [
    "# Load metrics report\n",
    "import json\n",
    "with open(\"../outputs/sentiment_accuracy.txt\", \"r\") as f:\n",
    "    report = json.load(f)"
   ]
  },
  {
   "cell_type": "code",
   "execution_count": 7,
   "id": "0f769d72-86ba-4e7d-b65e-c506382172b4",
   "metadata": {},
   "outputs": [
    {
     "data": {
      "text/html": [
       "<div>\n",
       "<style scoped>\n",
       "    .dataframe tbody tr th:only-of-type {\n",
       "        vertical-align: middle;\n",
       "    }\n",
       "\n",
       "    .dataframe tbody tr th {\n",
       "        vertical-align: top;\n",
       "    }\n",
       "\n",
       "    .dataframe thead th {\n",
       "        text-align: right;\n",
       "    }\n",
       "</style>\n",
       "<table border=\"1\" class=\"dataframe\">\n",
       "  <thead>\n",
       "    <tr style=\"text-align: right;\">\n",
       "      <th></th>\n",
       "      <th>precision</th>\n",
       "      <th>recall</th>\n",
       "      <th>f1-score</th>\n",
       "      <th>support</th>\n",
       "    </tr>\n",
       "  </thead>\n",
       "  <tbody>\n",
       "    <tr>\n",
       "      <th>negative</th>\n",
       "      <td>0.734</td>\n",
       "      <td>0.830</td>\n",
       "      <td>0.779</td>\n",
       "      <td>2001.000</td>\n",
       "    </tr>\n",
       "    <tr>\n",
       "      <th>neutral</th>\n",
       "      <td>0.913</td>\n",
       "      <td>0.830</td>\n",
       "      <td>0.869</td>\n",
       "      <td>8805.000</td>\n",
       "    </tr>\n",
       "    <tr>\n",
       "      <th>positive</th>\n",
       "      <td>0.707</td>\n",
       "      <td>0.858</td>\n",
       "      <td>0.775</td>\n",
       "      <td>2556.000</td>\n",
       "    </tr>\n",
       "    <tr>\n",
       "      <th>accuracy</th>\n",
       "      <td>0.835</td>\n",
       "      <td>0.835</td>\n",
       "      <td>0.835</td>\n",
       "      <td>0.835</td>\n",
       "    </tr>\n",
       "    <tr>\n",
       "      <th>macro avg</th>\n",
       "      <td>0.785</td>\n",
       "      <td>0.839</td>\n",
       "      <td>0.808</td>\n",
       "      <td>13362.000</td>\n",
       "    </tr>\n",
       "    <tr>\n",
       "      <th>weighted avg</th>\n",
       "      <td>0.847</td>\n",
       "      <td>0.835</td>\n",
       "      <td>0.838</td>\n",
       "      <td>13362.000</td>\n",
       "    </tr>\n",
       "  </tbody>\n",
       "</table>\n",
       "</div>"
      ],
      "text/plain": [
       "              precision  recall  f1-score    support\n",
       "negative          0.734   0.830     0.779   2001.000\n",
       "neutral           0.913   0.830     0.869   8805.000\n",
       "positive          0.707   0.858     0.775   2556.000\n",
       "accuracy          0.835   0.835     0.835      0.835\n",
       "macro avg         0.785   0.839     0.808  13362.000\n",
       "weighted avg      0.847   0.835     0.838  13362.000"
      ]
     },
     "metadata": {},
     "output_type": "display_data"
    }
   ],
   "source": [
    "# Convert classification report to DataFrame\n",
    "report_df = pd.DataFrame(report).T\n",
    "report_df = report_df.round(3)\n",
    "display(report_df)"
   ]
  },
  {
   "cell_type": "code",
   "execution_count": 8,
   "id": "fd678fba-bd94-43a1-9c61-b853a3e49960",
   "metadata": {},
   "outputs": [
    {
     "data": {
      "text/plain": [
       "<Figure size 1000x400 with 0 Axes>"
      ]
     },
     "metadata": {},
     "output_type": "display_data"
    },
    {
     "data": {
      "image/png": "[encoded data removed]",
      "text/plain": [
       "<Figure size 640x480 with 1 Axes>"
      ]
     },
     "metadata": {},
     "output_type": "display_data"
    }
   ],
   "source": [
    "#  Visualize key performance metrics\n",
    "plt.figure(figsize=(10, 4))\n",
    "report_df.loc[[\"positive\", \"neutral\", \"negative\"], [\"precision\", \"recall\", \"f1-score\"]].plot(kind=\"bar\")\n",
    "plt.title(\" Sentiment Classification Performance by Class\")\n",
    "plt.ylabel(\"Score\")\n",
    "plt.ylim(0, 1)\n",
    "plt.xticks(rotation=0)\n",
    "plt.grid(axis=\"y\", linestyle=\"--\", alpha=0.6)\n",
    "plt.show()"
   ]
  },
  {
   "cell_type": "code",
   "execution_count": 9,
   "id": "eb43c520-8c6f-4db1-adf8-fb9b681968e9",
   "metadata": {},
   "outputs": [
    {
     "data": {
      "text/html": [
       "<div>\n",
       "<style scoped>\n",
       "    .dataframe tbody tr th:only-of-type {\n",
       "        vertical-align: middle;\n",
       "    }\n",
       "\n",
       "    .dataframe tbody tr th {\n",
       "        vertical-align: top;\n",
       "    }\n",
       "\n",
       "    .dataframe thead th {\n",
       "        text-align: right;\n",
       "    }\n",
       "</style>\n",
       "<table border=\"1\" class=\"dataframe\">\n",
       "  <thead>\n",
       "    <tr style=\"text-align: right;\">\n",
       "      <th></th>\n",
       "      <th>true_sentiment</th>\n",
       "      <th>predicted_sentiment</th>\n",
       "    </tr>\n",
       "  </thead>\n",
       "  <tbody>\n",
       "    <tr>\n",
       "      <th>11739</th>\n",
       "      <td>neutral</td>\n",
       "      <td>neutral</td>\n",
       "    </tr>\n",
       "    <tr>\n",
       "      <th>8740</th>\n",
       "      <td>neutral</td>\n",
       "      <td>neutral</td>\n",
       "    </tr>\n",
       "    <tr>\n",
       "      <th>9218</th>\n",
       "      <td>neutral</td>\n",
       "      <td>neutral</td>\n",
       "    </tr>\n",
       "    <tr>\n",
       "      <th>9088</th>\n",
       "      <td>neutral</td>\n",
       "      <td>neutral</td>\n",
       "    </tr>\n",
       "    <tr>\n",
       "      <th>8296</th>\n",
       "      <td>neutral</td>\n",
       "      <td>neutral</td>\n",
       "    </tr>\n",
       "    <tr>\n",
       "      <th>9959</th>\n",
       "      <td>positive</td>\n",
       "      <td>neutral</td>\n",
       "    </tr>\n",
       "    <tr>\n",
       "      <th>6610</th>\n",
       "      <td>neutral</td>\n",
       "      <td>neutral</td>\n",
       "    </tr>\n",
       "    <tr>\n",
       "      <th>11333</th>\n",
       "      <td>positive</td>\n",
       "      <td>positive</td>\n",
       "    </tr>\n",
       "    <tr>\n",
       "      <th>2101</th>\n",
       "      <td>positive</td>\n",
       "      <td>positive</td>\n",
       "    </tr>\n",
       "    <tr>\n",
       "      <th>2122</th>\n",
       "      <td>neutral</td>\n",
       "      <td>neutral</td>\n",
       "    </tr>\n",
       "    <tr>\n",
       "      <th>9533</th>\n",
       "      <td>positive</td>\n",
       "      <td>positive</td>\n",
       "    </tr>\n",
       "    <tr>\n",
       "      <th>8921</th>\n",
       "      <td>positive</td>\n",
       "      <td>neutral</td>\n",
       "    </tr>\n",
       "    <tr>\n",
       "      <th>5989</th>\n",
       "      <td>neutral</td>\n",
       "      <td>positive</td>\n",
       "    </tr>\n",
       "    <tr>\n",
       "      <th>13318</th>\n",
       "      <td>neutral</td>\n",
       "      <td>positive</td>\n",
       "    </tr>\n",
       "    <tr>\n",
       "      <th>2033</th>\n",
       "      <td>neutral</td>\n",
       "      <td>neutral</td>\n",
       "    </tr>\n",
       "    <tr>\n",
       "      <th>12000</th>\n",
       "      <td>neutral</td>\n",
       "      <td>neutral</td>\n",
       "    </tr>\n",
       "    <tr>\n",
       "      <th>6995</th>\n",
       "      <td>negative</td>\n",
       "      <td>neutral</td>\n",
       "    </tr>\n",
       "    <tr>\n",
       "      <th>246</th>\n",
       "      <td>positive</td>\n",
       "      <td>positive</td>\n",
       "    </tr>\n",
       "    <tr>\n",
       "      <th>10392</th>\n",
       "      <td>neutral</td>\n",
       "      <td>neutral</td>\n",
       "    </tr>\n",
       "    <tr>\n",
       "      <th>13179</th>\n",
       "      <td>neutral</td>\n",
       "      <td>neutral</td>\n",
       "    </tr>\n",
       "  </tbody>\n",
       "</table>\n",
       "</div>"
      ],
      "text/plain": [
       "      true_sentiment predicted_sentiment\n",
       "11739        neutral             neutral\n",
       "8740         neutral             neutral\n",
       "9218         neutral             neutral\n",
       "9088         neutral             neutral\n",
       "8296         neutral             neutral\n",
       "9959        positive             neutral\n",
       "6610         neutral             neutral\n",
       "11333       positive            positive\n",
       "2101        positive            positive\n",
       "2122         neutral             neutral\n",
       "9533        positive            positive\n",
       "8921        positive             neutral\n",
       "5989         neutral            positive\n",
       "13318        neutral            positive\n",
       "2033         neutral             neutral\n",
       "12000        neutral             neutral\n",
       "6995        negative             neutral\n",
       "246         positive            positive\n",
       "10392        neutral             neutral\n",
       "13179        neutral             neutral"
      ]
     },
     "metadata": {},
     "output_type": "display_data"
    }
   ],
   "source": [
    "#  Sample predictions\n",
    "pred_df = pd.read_csv(\"../outputs/predictions_sentiment.csv\")\n",
    "display(pred_df.sample(20))"
   ]
  }
 ],
 "metadata": {
  "kernelspec": {
   "display_name": "Python 3.8 (TensorFlow)",
   "language": "python",
   "name": "tf-3.8"
  },
  "language_info": {
   "codemirror_mode": {
    "name": "ipython",
    "version": 3
   },
   "file_extension": ".py",
   "mimetype": "text/x-python",
   "name": "python",
   "nbconvert_exporter": "python",
   "pygments_lexer": "ipython3",
   "version": "3.8.10"
  }
 },
 "nbformat": 4,
 "nbformat_minor": 5
}
