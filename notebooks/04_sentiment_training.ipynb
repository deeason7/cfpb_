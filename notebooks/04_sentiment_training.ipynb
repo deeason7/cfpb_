{
 "cells": [
  {
   "cell_type": "code",
   "execution_count": 1,
   "id": "fc118db6-3df9-40d3-a6d9-8bbba87c3039",
   "metadata": {},
   "outputs": [],
   "source": [
    "import numpy as np\n",
    "import pandas as pd\n",
    "import matplotlib.pyplot as plt\n",
    "import seaborn as sns"
   ]
  },
  {
   "cell_type": "code",
   "execution_count": 2,
   "id": "1a1204a4-d8b5-4c88-bdba-b91bfba04455",
   "metadata": {},
   "outputs": [],
   "source": [
    "import os\n",
    "import sys\n",
    "project_root = os.path.abspath(\"..\")\n",
    "if project_root not in sys.path:\n",
    "    sys.path.append(project_root)"
   ]
  },
  {
   "cell_type": "code",
   "execution_count": 3,
   "id": "62b50bfb-1416-4011-911c-ddb515937fea",
   "metadata": {},
   "outputs": [],
   "source": [
    "from src.modeling.train_sentiment import train_and_evaluate_sentiment"
   ]
  },
  {
   "cell_type": "code",
   "execution_count": 4,
   "id": "c50a8c94-8a17-4d70-828b-891cb5bd823c",
   "metadata": {},
   "outputs": [],
   "source": [
    "sns.set(style=\"whitegrid\")"
   ]
  },
  {
   "cell_type": "markdown",
   "id": "27f6d0ee-4b20-446b-8790-a1776a47da21",
   "metadata": {},
   "source": [
    "## Training & evaluation"
   ]
  },
  {
   "cell_type": "code",
   "execution_count": 5,
   "id": "abecb89e-70f7-44d2-ad74-123a2e4a3eab",
   "metadata": {},
   "outputs": [
    {
     "name": "stdout",
     "output_type": "stream",
     "text": [
      "Epoch 1/30\n",
      "836/836 - 79s - loss: 0.8483 - accuracy: 0.4817 - val_loss: 0.7377 - val_accuracy: 0.6753 - lr: 0.0010 - 79s/epoch - 95ms/step\n",
      "Epoch 2/30\n",
      "836/836 - 78s - loss: 0.5680 - accuracy: 0.6776 - val_loss: 0.6367 - val_accuracy: 0.7158 - lr: 0.0010 - 78s/epoch - 94ms/step\n",
      "Epoch 3/30\n",
      "836/836 - 82s - loss: 0.4056 - accuracy: 0.7931 - val_loss: 0.5117 - val_accuracy: 0.7783 - lr: 0.0010 - 82s/epoch - 98ms/step\n",
      "Epoch 4/30\n",
      "836/836 - 83s - loss: 0.2998 - accuracy: 0.8541 - val_loss: 0.4944 - val_accuracy: 0.8027 - lr: 0.0010 - 83s/epoch - 99ms/step\n",
      "Epoch 5/30\n",
      "836/836 - 86s - loss: 0.2268 - accuracy: 0.8890 - val_loss: 0.4596 - val_accuracy: 0.8315 - lr: 0.0010 - 86s/epoch - 103ms/step\n",
      "Epoch 6/30\n",
      "836/836 - 84s - loss: 0.1771 - accuracy: 0.9150 - val_loss: 0.4917 - val_accuracy: 0.8292 - lr: 0.0010 - 84s/epoch - 100ms/step\n",
      "Epoch 7/30\n",
      "836/836 - 81s - loss: 0.1341 - accuracy: 0.9371 - val_loss: 0.4829 - val_accuracy: 0.8410 - lr: 0.0010 - 81s/epoch - 97ms/step\n",
      "Epoch 8/30\n",
      "836/836 - 82s - loss: 0.0814 - accuracy: 0.9636 - val_loss: 0.6549 - val_accuracy: 0.8385 - lr: 5.0000e-04 - 82s/epoch - 99ms/step\n",
      "Epoch 9/30\n",
      "836/836 - 82s - loss: 0.0624 - accuracy: 0.9735 - val_loss: 0.6765 - val_accuracy: 0.8492 - lr: 5.0000e-04 - 82s/epoch - 97ms/step\n",
      "418/418 [==============================] - 8s 17ms/step\n",
      "Sentiment model trained, evaluated, and outputs saved.\n",
      "Sentiment model pipeline executed.\n"
     ]
    }
   ],
   "source": [
    "# Step 1: Execute model training and evaluation\n",
    "train_and_evaluate_sentiment()\n",
    "print(\"Sentiment model pipeline executed.\")"
   ]
  },
  {
   "cell_type": "code",
   "execution_count": 10,
   "id": "d6623141-b2eb-40e0-a50f-eac6e83d8f32",
   "metadata": {},
   "outputs": [],
   "source": [
    "# Load metrics report\n",
    "import json\n",
    "with open(\"../outputs/sentiment_accuracy.txt\", \"r\") as f:\n",
    "    report = json.load(f)"
   ]
  },
  {
   "cell_type": "code",
   "execution_count": 12,
   "id": "0f769d72-86ba-4e7d-b65e-c506382172b4",
   "metadata": {},
   "outputs": [
    {
     "data": {
      "text/html": [
       "<div>\n",
       "<style scoped>\n",
       "    .dataframe tbody tr th:only-of-type {\n",
       "        vertical-align: middle;\n",
       "    }\n",
       "\n",
       "    .dataframe tbody tr th {\n",
       "        vertical-align: top;\n",
       "    }\n",
       "\n",
       "    .dataframe thead th {\n",
       "        text-align: right;\n",
       "    }\n",
       "</style>\n",
       "<table border=\"1\" class=\"dataframe\">\n",
       "  <thead>\n",
       "    <tr style=\"text-align: right;\">\n",
       "      <th></th>\n",
       "      <th>precision</th>\n",
       "      <th>recall</th>\n",
       "      <th>f1-score</th>\n",
       "      <th>support</th>\n",
       "    </tr>\n",
       "  </thead>\n",
       "  <tbody>\n",
       "    <tr>\n",
       "      <th>negative</th>\n",
       "      <td>0.746</td>\n",
       "      <td>0.821</td>\n",
       "      <td>0.782</td>\n",
       "      <td>2001.000</td>\n",
       "    </tr>\n",
       "    <tr>\n",
       "      <th>neutral</th>\n",
       "      <td>0.905</td>\n",
       "      <td>0.833</td>\n",
       "      <td>0.868</td>\n",
       "      <td>8805.000</td>\n",
       "    </tr>\n",
       "    <tr>\n",
       "      <th>positive</th>\n",
       "      <td>0.698</td>\n",
       "      <td>0.835</td>\n",
       "      <td>0.760</td>\n",
       "      <td>2556.000</td>\n",
       "    </tr>\n",
       "    <tr>\n",
       "      <th>accuracy</th>\n",
       "      <td>0.832</td>\n",
       "      <td>0.832</td>\n",
       "      <td>0.832</td>\n",
       "      <td>0.832</td>\n",
       "    </tr>\n",
       "    <tr>\n",
       "      <th>macro avg</th>\n",
       "      <td>0.783</td>\n",
       "      <td>0.830</td>\n",
       "      <td>0.803</td>\n",
       "      <td>13362.000</td>\n",
       "    </tr>\n",
       "    <tr>\n",
       "      <th>weighted avg</th>\n",
       "      <td>0.842</td>\n",
       "      <td>0.832</td>\n",
       "      <td>0.834</td>\n",
       "      <td>13362.000</td>\n",
       "    </tr>\n",
       "  </tbody>\n",
       "</table>\n",
       "</div>"
      ],
      "text/plain": [
       "              precision  recall  f1-score    support\n",
       "negative          0.746   0.821     0.782   2001.000\n",
       "neutral           0.905   0.833     0.868   8805.000\n",
       "positive          0.698   0.835     0.760   2556.000\n",
       "accuracy          0.832   0.832     0.832      0.832\n",
       "macro avg         0.783   0.830     0.803  13362.000\n",
       "weighted avg      0.842   0.832     0.834  13362.000"
      ]
     },
     "metadata": {},
     "output_type": "display_data"
    }
   ],
   "source": [
    "# Convert classification report to DataFrame\n",
    "report_df = pd.DataFrame(report).T\n",
    "report_df = report_df.round(3)\n",
    "display(report_df)"
   ]
  },
  {
   "cell_type": "code",
   "execution_count": 13,
   "id": "fd678fba-bd94-43a1-9c61-b853a3e49960",
   "metadata": {},
   "outputs": [
    {
     "data": {
      "text/plain": [
       "<Figure size 1000x400 with 0 Axes>"
      ]
     },
     "metadata": {},
     "output_type": "display_data"
    },
    {
     "data": {
      "image/png": "[encoded data removed]",
      "text/plain": [
       "<Figure size 640x480 with 1 Axes>"
      ]
     },
     "metadata": {},
     "output_type": "display_data"
    }
   ],
   "source": [
    "#  Visualize key performance metrics\n",
    "plt.figure(figsize=(10, 4))\n",
    "report_df.loc[[\"positive\", \"neutral\", \"negative\"], [\"precision\", \"recall\", \"f1-score\"]].plot(kind=\"bar\")\n",
    "plt.title(\" Sentiment Classification Performance by Class\")\n",
    "plt.ylabel(\"Score\")\n",
    "plt.ylim(0, 1)\n",
    "plt.xticks(rotation=0)\n",
    "plt.grid(axis=\"y\", linestyle=\"--\", alpha=0.6)\n",
    "plt.show()"
   ]
  },
  {
   "cell_type": "code",
   "execution_count": 14,
   "id": "eb43c520-8c6f-4db1-adf8-fb9b681968e9",
   "metadata": {},
   "outputs": [
    {
     "data": {
      "text/html": [
       "<div>\n",
       "<style scoped>\n",
       "    .dataframe tbody tr th:only-of-type {\n",
       "        vertical-align: middle;\n",
       "    }\n",
       "\n",
       "    .dataframe tbody tr th {\n",
       "        vertical-align: top;\n",
       "    }\n",
       "\n",
       "    .dataframe thead th {\n",
       "        text-align: right;\n",
       "    }\n",
       "</style>\n",
       "<table border=\"1\" class=\"dataframe\">\n",
       "  <thead>\n",
       "    <tr style=\"text-align: right;\">\n",
       "      <th></th>\n",
       "      <th>true_sentiment</th>\n",
       "      <th>predicted_sentiment</th>\n",
       "    </tr>\n",
       "  </thead>\n",
       "  <tbody>\n",
       "    <tr>\n",
       "      <th>8735</th>\n",
       "      <td>negative</td>\n",
       "      <td>neutral</td>\n",
       "    </tr>\n",
       "    <tr>\n",
       "      <th>5316</th>\n",
       "      <td>neutral</td>\n",
       "      <td>neutral</td>\n",
       "    </tr>\n",
       "    <tr>\n",
       "      <th>3087</th>\n",
       "      <td>negative</td>\n",
       "      <td>neutral</td>\n",
       "    </tr>\n",
       "    <tr>\n",
       "      <th>10590</th>\n",
       "      <td>neutral</td>\n",
       "      <td>neutral</td>\n",
       "    </tr>\n",
       "    <tr>\n",
       "      <th>4006</th>\n",
       "      <td>neutral</td>\n",
       "      <td>neutral</td>\n",
       "    </tr>\n",
       "    <tr>\n",
       "      <th>12914</th>\n",
       "      <td>neutral</td>\n",
       "      <td>positive</td>\n",
       "    </tr>\n",
       "    <tr>\n",
       "      <th>12090</th>\n",
       "      <td>neutral</td>\n",
       "      <td>neutral</td>\n",
       "    </tr>\n",
       "    <tr>\n",
       "      <th>5113</th>\n",
       "      <td>neutral</td>\n",
       "      <td>neutral</td>\n",
       "    </tr>\n",
       "    <tr>\n",
       "      <th>10665</th>\n",
       "      <td>neutral</td>\n",
       "      <td>neutral</td>\n",
       "    </tr>\n",
       "    <tr>\n",
       "      <th>9459</th>\n",
       "      <td>neutral</td>\n",
       "      <td>neutral</td>\n",
       "    </tr>\n",
       "    <tr>\n",
       "      <th>12227</th>\n",
       "      <td>neutral</td>\n",
       "      <td>positive</td>\n",
       "    </tr>\n",
       "    <tr>\n",
       "      <th>2157</th>\n",
       "      <td>neutral</td>\n",
       "      <td>negative</td>\n",
       "    </tr>\n",
       "    <tr>\n",
       "      <th>1459</th>\n",
       "      <td>positive</td>\n",
       "      <td>positive</td>\n",
       "    </tr>\n",
       "    <tr>\n",
       "      <th>2784</th>\n",
       "      <td>negative</td>\n",
       "      <td>negative</td>\n",
       "    </tr>\n",
       "    <tr>\n",
       "      <th>475</th>\n",
       "      <td>positive</td>\n",
       "      <td>neutral</td>\n",
       "    </tr>\n",
       "    <tr>\n",
       "      <th>11492</th>\n",
       "      <td>neutral</td>\n",
       "      <td>neutral</td>\n",
       "    </tr>\n",
       "    <tr>\n",
       "      <th>10179</th>\n",
       "      <td>neutral</td>\n",
       "      <td>neutral</td>\n",
       "    </tr>\n",
       "    <tr>\n",
       "      <th>2290</th>\n",
       "      <td>positive</td>\n",
       "      <td>positive</td>\n",
       "    </tr>\n",
       "    <tr>\n",
       "      <th>11419</th>\n",
       "      <td>negative</td>\n",
       "      <td>negative</td>\n",
       "    </tr>\n",
       "    <tr>\n",
       "      <th>6349</th>\n",
       "      <td>neutral</td>\n",
       "      <td>neutral</td>\n",
       "    </tr>\n",
       "  </tbody>\n",
       "</table>\n",
       "</div>"
      ],
      "text/plain": [
       "      true_sentiment predicted_sentiment\n",
       "8735        negative             neutral\n",
       "5316         neutral             neutral\n",
       "3087        negative             neutral\n",
       "10590        neutral             neutral\n",
       "4006         neutral             neutral\n",
       "12914        neutral            positive\n",
       "12090        neutral             neutral\n",
       "5113         neutral             neutral\n",
       "10665        neutral             neutral\n",
       "9459         neutral             neutral\n",
       "12227        neutral            positive\n",
       "2157         neutral            negative\n",
       "1459        positive            positive\n",
       "2784        negative            negative\n",
       "475         positive             neutral\n",
       "11492        neutral             neutral\n",
       "10179        neutral             neutral\n",
       "2290        positive            positive\n",
       "11419       negative            negative\n",
       "6349         neutral             neutral"
      ]
     },
     "metadata": {},
     "output_type": "display_data"
    }
   ],
   "source": [
    "#  Sample predictions\n",
    "pred_df = pd.read_csv(\"../outputs/predictions_sentiment.csv\")\n",
    "display(pred_df.sample(20))"
   ]
  },
  {
   "cell_type": "code",
   "execution_count": null,
   "id": "1d674a65-342b-494b-bc7d-b35b73aa5c73",
   "metadata": {},
   "outputs": [],
   "source": []
  }
 ],
 "metadata": {
  "kernelspec": {
   "display_name": "Python 3.8 (TensorFlow)",
   "language": "python",
   "name": "tf-3.8"
  },
  "language_info": {
   "codemirror_mode": {
    "name": "ipython",
    "version": 3
   },
   "file_extension": ".py",
   "mimetype": "text/x-python",
   "name": "python",
   "nbconvert_exporter": "python",
   "pygments_lexer": "ipython3",
   "version": "3.8.10"
  }
 },
 "nbformat": 4,
 "nbformat_minor": 5
}
