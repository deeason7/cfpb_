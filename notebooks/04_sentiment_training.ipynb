{
 "cells": [
  {
   "cell_type": "code",
   "execution_count": 1,
   "id": "fc118db6-3df9-40d3-a6d9-8bbba87c3039",
   "metadata": {},
   "outputs": [],
   "source": [
    "import numpy as np\n",
    "import pandas as pd\n",
    "import matplotlib.pyplot as plt\n",
    "import seaborn as sns"
   ]
  },
  {
   "cell_type": "code",
   "execution_count": 2,
   "id": "1a1204a4-d8b5-4c88-bdba-b91bfba04455",
   "metadata": {},
   "outputs": [],
   "source": [
    "import os\n",
    "import sys\n",
    "project_root = os.path.abspath(\"..\")\n",
    "if project_root not in sys.path:\n",
    "    sys.path.append(project_root)"
   ]
  },
  {
   "cell_type": "code",
   "execution_count": 3,
   "id": "62b50bfb-1416-4011-911c-ddb515937fea",
   "metadata": {},
   "outputs": [],
   "source": [
    "from src.modeling.train_sentiment import train_and_evaluate_sentiment"
   ]
  },
  {
   "cell_type": "code",
   "execution_count": 4,
   "id": "c50a8c94-8a17-4d70-828b-891cb5bd823c",
   "metadata": {},
   "outputs": [],
   "source": [
    "sns.set(style=\"whitegrid\")"
   ]
  },
  {
   "cell_type": "markdown",
   "id": "27f6d0ee-4b20-446b-8790-a1776a47da21",
   "metadata": {},
   "source": [
    "## Training & evaluation"
   ]
  },
  {
   "cell_type": "code",
   "execution_count": 5,
   "id": "abecb89e-70f7-44d2-ad74-123a2e4a3eab",
   "metadata": {},
   "outputs": [
    {
     "name": "stdout",
     "output_type": "stream",
     "text": [
      "Epoch 1/30\n",
      "731/731 - 67s - loss: 2.3848 - accuracy: 0.4619 - val_loss: 0.9467 - val_accuracy: 0.5494 - lr: 0.0010 - 67s/epoch - 91ms/step\n",
      "Epoch 2/30\n",
      "731/731 - 69s - loss: 0.8682 - accuracy: 0.5931 - val_loss: 0.7421 - val_accuracy: 0.6735 - lr: 0.0010 - 69s/epoch - 95ms/step\n",
      "Epoch 3/30\n",
      "731/731 - 69s - loss: 0.7036 - accuracy: 0.6581 - val_loss: 0.5012 - val_accuracy: 0.7361 - lr: 0.0010 - 69s/epoch - 95ms/step\n",
      "Epoch 4/30\n",
      "731/731 - 77s - loss: 0.4999 - accuracy: 0.7263 - val_loss: 0.5060 - val_accuracy: 0.7425 - lr: 0.0010 - 77s/epoch - 105ms/step\n",
      "Epoch 5/30\n",
      "731/731 - 78s - loss: 0.5048 - accuracy: 0.7431 - val_loss: 0.5157 - val_accuracy: 0.7363 - lr: 0.0010 - 78s/epoch - 106ms/step\n",
      "Epoch 6/30\n",
      "731/731 - 73s - loss: 0.4678 - accuracy: 0.7551 - val_loss: 0.4137 - val_accuracy: 0.8295 - lr: 5.0000e-04 - 73s/epoch - 100ms/step\n",
      "Epoch 7/30\n",
      "731/731 - 78s - loss: 0.4417 - accuracy: 0.7749 - val_loss: 0.4628 - val_accuracy: 0.7867 - lr: 5.0000e-04 - 78s/epoch - 107ms/step\n",
      "Epoch 8/30\n",
      "731/731 - 78s - loss: 0.3423 - accuracy: 0.8649 - val_loss: 0.2596 - val_accuracy: 0.9187 - lr: 5.0000e-04 - 78s/epoch - 107ms/step\n",
      "Epoch 9/30\n",
      "731/731 - 79s - loss: 0.2361 - accuracy: 0.9094 - val_loss: 0.2241 - val_accuracy: 0.9212 - lr: 5.0000e-04 - 79s/epoch - 109ms/step\n",
      "Epoch 10/30\n",
      "731/731 - 80s - loss: 0.1980 - accuracy: 0.9295 - val_loss: 0.1838 - val_accuracy: 0.9442 - lr: 5.0000e-04 - 80s/epoch - 110ms/step\n",
      "Epoch 11/30\n",
      "731/731 - 80s - loss: 0.1797 - accuracy: 0.9373 - val_loss: 0.1718 - val_accuracy: 0.9486 - lr: 5.0000e-04 - 80s/epoch - 110ms/step\n",
      "Epoch 12/30\n",
      "731/731 - 78s - loss: 0.1420 - accuracy: 0.9533 - val_loss: 0.1801 - val_accuracy: 0.9370 - lr: 5.0000e-04 - 78s/epoch - 106ms/step\n",
      "Epoch 13/30\n",
      "731/731 - 80s - loss: 0.1285 - accuracy: 0.9555 - val_loss: 0.1869 - val_accuracy: 0.9439 - lr: 5.0000e-04 - 80s/epoch - 109ms/step\n",
      "Epoch 14/30\n",
      "731/731 - 81s - loss: 0.1150 - accuracy: 0.9621 - val_loss: 0.1807 - val_accuracy: 0.9406 - lr: 2.5000e-04 - 81s/epoch - 110ms/step\n",
      "Epoch 15/30\n",
      "731/731 - 81s - loss: 0.1064 - accuracy: 0.9639 - val_loss: 0.1735 - val_accuracy: 0.9468 - lr: 2.5000e-04 - 81s/epoch - 111ms/step\n",
      "314/314 [==============================] - 6s 19ms/step\n",
      "Sentiment model trained and evaluated on test data.\n",
      "Sentiment model pipeline executed.\n"
     ]
    }
   ],
   "source": [
    "# Step 1: Execute model training and evaluation\n",
    "train_and_evaluate_sentiment()\n",
    "print(\"Sentiment model pipeline executed.\")"
   ]
  },
  {
   "cell_type": "code",
   "execution_count": 6,
   "id": "d6623141-b2eb-40e0-a50f-eac6e83d8f32",
   "metadata": {},
   "outputs": [],
   "source": [
    "# Load metrics report\n",
    "import json\n",
    "with open(\"../outputs/sentiment_accuracy.txt\", \"r\") as f:\n",
    "    report = json.load(f)"
   ]
  },
  {
   "cell_type": "code",
   "execution_count": 7,
   "id": "0f769d72-86ba-4e7d-b65e-c506382172b4",
   "metadata": {},
   "outputs": [
    {
     "data": {
      "text/html": [
       "<div>\n",
       "<style scoped>\n",
       "    .dataframe tbody tr th:only-of-type {\n",
       "        vertical-align: middle;\n",
       "    }\n",
       "\n",
       "    .dataframe tbody tr th {\n",
       "        vertical-align: top;\n",
       "    }\n",
       "\n",
       "    .dataframe thead th {\n",
       "        text-align: right;\n",
       "    }\n",
       "</style>\n",
       "<table border=\"1\" class=\"dataframe\">\n",
       "  <thead>\n",
       "    <tr style=\"text-align: right;\">\n",
       "      <th></th>\n",
       "      <th>precision</th>\n",
       "      <th>recall</th>\n",
       "      <th>f1-score</th>\n",
       "      <th>support</th>\n",
       "    </tr>\n",
       "  </thead>\n",
       "  <tbody>\n",
       "    <tr>\n",
       "      <th>extreme_negative</th>\n",
       "      <td>0.981</td>\n",
       "      <td>0.964</td>\n",
       "      <td>0.972</td>\n",
       "      <td>2695.000</td>\n",
       "    </tr>\n",
       "    <tr>\n",
       "      <th>negative</th>\n",
       "      <td>0.950</td>\n",
       "      <td>0.908</td>\n",
       "      <td>0.928</td>\n",
       "      <td>3943.000</td>\n",
       "    </tr>\n",
       "    <tr>\n",
       "      <th>neutral</th>\n",
       "      <td>0.911</td>\n",
       "      <td>0.970</td>\n",
       "      <td>0.939</td>\n",
       "      <td>3383.000</td>\n",
       "    </tr>\n",
       "    <tr>\n",
       "      <th>accuracy</th>\n",
       "      <td>0.944</td>\n",
       "      <td>0.944</td>\n",
       "      <td>0.944</td>\n",
       "      <td>0.944</td>\n",
       "    </tr>\n",
       "    <tr>\n",
       "      <th>macro avg</th>\n",
       "      <td>0.947</td>\n",
       "      <td>0.947</td>\n",
       "      <td>0.947</td>\n",
       "      <td>10021.000</td>\n",
       "    </tr>\n",
       "    <tr>\n",
       "      <th>weighted avg</th>\n",
       "      <td>0.945</td>\n",
       "      <td>0.944</td>\n",
       "      <td>0.944</td>\n",
       "      <td>10021.000</td>\n",
       "    </tr>\n",
       "  </tbody>\n",
       "</table>\n",
       "</div>"
      ],
      "text/plain": [
       "                  precision  recall  f1-score    support\n",
       "extreme_negative      0.981   0.964     0.972   2695.000\n",
       "negative              0.950   0.908     0.928   3943.000\n",
       "neutral               0.911   0.970     0.939   3383.000\n",
       "accuracy              0.944   0.944     0.944      0.944\n",
       "macro avg             0.947   0.947     0.947  10021.000\n",
       "weighted avg          0.945   0.944     0.944  10021.000"
      ]
     },
     "metadata": {},
     "output_type": "display_data"
    }
   ],
   "source": [
    "# Convert classification report to DataFrame\n",
    "report_df = pd.DataFrame(report).T\n",
    "report_df = report_df.round(3)\n",
    "display(report_df)"
   ]
  },
  {
   "cell_type": "code",
   "execution_count": 8,
   "id": "fd678fba-bd94-43a1-9c61-b853a3e49960",
   "metadata": {},
   "outputs": [
    {
     "data": {
      "text/plain": [
       "<Figure size 1000x400 with 0 Axes>"
      ]
     },
     "metadata": {},
     "output_type": "display_data"
    },
    {
     "data": {
      "image/png": "[encoded data removed]",
      "text/plain": [
       "<Figure size 640x480 with 1 Axes>"
      ]
     },
     "metadata": {},
     "output_type": "display_data"
    }
   ],
   "source": [
    "#  Visualize key performance metrics\n",
    "plt.figure(figsize=(10, 4))\n",
    "report_df.loc[[\"neutral\", \"negative\", \"extreme_negative\"], [\"precision\", \"recall\", \"f1-score\"]].plot(kind=\"bar\")\n",
    "plt.title(\" Sentiment Classification Performance by Class\")\n",
    "plt.ylabel(\"Score\")\n",
    "plt.ylim(0, 1)\n",
    "plt.xticks(rotation=0)\n",
    "plt.grid(axis=\"y\", linestyle=\"--\", alpha=0.6)\n",
    "plt.show()"
   ]
  },
  {
   "cell_type": "code",
   "execution_count": 10,
   "id": "eb43c520-8c6f-4db1-adf8-fb9b681968e9",
   "metadata": {},
   "outputs": [
    {
     "data": {
      "text/html": [
       "<div>\n",
       "<style scoped>\n",
       "    .dataframe tbody tr th:only-of-type {\n",
       "        vertical-align: middle;\n",
       "    }\n",
       "\n",
       "    .dataframe tbody tr th {\n",
       "        vertical-align: top;\n",
       "    }\n",
       "\n",
       "    .dataframe thead th {\n",
       "        text-align: right;\n",
       "    }\n",
       "</style>\n",
       "<table border=\"1\" class=\"dataframe\">\n",
       "  <thead>\n",
       "    <tr style=\"text-align: right;\">\n",
       "      <th></th>\n",
       "      <th>true_sentiment</th>\n",
       "      <th>predicted_sentiment</th>\n",
       "    </tr>\n",
       "  </thead>\n",
       "  <tbody>\n",
       "    <tr>\n",
       "      <th>555</th>\n",
       "      <td>neutral</td>\n",
       "      <td>neutral</td>\n",
       "    </tr>\n",
       "    <tr>\n",
       "      <th>6514</th>\n",
       "      <td>neutral</td>\n",
       "      <td>neutral</td>\n",
       "    </tr>\n",
       "    <tr>\n",
       "      <th>782</th>\n",
       "      <td>extreme_negative</td>\n",
       "      <td>extreme_negative</td>\n",
       "    </tr>\n",
       "    <tr>\n",
       "      <th>9827</th>\n",
       "      <td>neutral</td>\n",
       "      <td>neutral</td>\n",
       "    </tr>\n",
       "    <tr>\n",
       "      <th>7691</th>\n",
       "      <td>extreme_negative</td>\n",
       "      <td>extreme_negative</td>\n",
       "    </tr>\n",
       "    <tr>\n",
       "      <th>8723</th>\n",
       "      <td>neutral</td>\n",
       "      <td>neutral</td>\n",
       "    </tr>\n",
       "    <tr>\n",
       "      <th>8588</th>\n",
       "      <td>negative</td>\n",
       "      <td>negative</td>\n",
       "    </tr>\n",
       "    <tr>\n",
       "      <th>9515</th>\n",
       "      <td>extreme_negative</td>\n",
       "      <td>extreme_negative</td>\n",
       "    </tr>\n",
       "    <tr>\n",
       "      <th>8455</th>\n",
       "      <td>extreme_negative</td>\n",
       "      <td>extreme_negative</td>\n",
       "    </tr>\n",
       "    <tr>\n",
       "      <th>2191</th>\n",
       "      <td>negative</td>\n",
       "      <td>negative</td>\n",
       "    </tr>\n",
       "    <tr>\n",
       "      <th>7619</th>\n",
       "      <td>negative</td>\n",
       "      <td>negative</td>\n",
       "    </tr>\n",
       "    <tr>\n",
       "      <th>5946</th>\n",
       "      <td>negative</td>\n",
       "      <td>negative</td>\n",
       "    </tr>\n",
       "    <tr>\n",
       "      <th>9839</th>\n",
       "      <td>extreme_negative</td>\n",
       "      <td>extreme_negative</td>\n",
       "    </tr>\n",
       "    <tr>\n",
       "      <th>1867</th>\n",
       "      <td>negative</td>\n",
       "      <td>negative</td>\n",
       "    </tr>\n",
       "    <tr>\n",
       "      <th>2295</th>\n",
       "      <td>negative</td>\n",
       "      <td>negative</td>\n",
       "    </tr>\n",
       "    <tr>\n",
       "      <th>408</th>\n",
       "      <td>neutral</td>\n",
       "      <td>neutral</td>\n",
       "    </tr>\n",
       "    <tr>\n",
       "      <th>8526</th>\n",
       "      <td>neutral</td>\n",
       "      <td>neutral</td>\n",
       "    </tr>\n",
       "    <tr>\n",
       "      <th>7104</th>\n",
       "      <td>extreme_negative</td>\n",
       "      <td>extreme_negative</td>\n",
       "    </tr>\n",
       "    <tr>\n",
       "      <th>9330</th>\n",
       "      <td>negative</td>\n",
       "      <td>negative</td>\n",
       "    </tr>\n",
       "    <tr>\n",
       "      <th>7382</th>\n",
       "      <td>neutral</td>\n",
       "      <td>neutral</td>\n",
       "    </tr>\n",
       "  </tbody>\n",
       "</table>\n",
       "</div>"
      ],
      "text/plain": [
       "        true_sentiment predicted_sentiment\n",
       "555            neutral             neutral\n",
       "6514           neutral             neutral\n",
       "782   extreme_negative    extreme_negative\n",
       "9827           neutral             neutral\n",
       "7691  extreme_negative    extreme_negative\n",
       "8723           neutral             neutral\n",
       "8588          negative            negative\n",
       "9515  extreme_negative    extreme_negative\n",
       "8455  extreme_negative    extreme_negative\n",
       "2191          negative            negative\n",
       "7619          negative            negative\n",
       "5946          negative            negative\n",
       "9839  extreme_negative    extreme_negative\n",
       "1867          negative            negative\n",
       "2295          negative            negative\n",
       "408            neutral             neutral\n",
       "8526           neutral             neutral\n",
       "7104  extreme_negative    extreme_negative\n",
       "9330          negative            negative\n",
       "7382           neutral             neutral"
      ]
     },
     "metadata": {},
     "output_type": "display_data"
    }
   ],
   "source": [
    "#  Sample predictions\n",
    "pred_df = pd.read_csv(\"../outputs/predictions_sentiment.csv\")\n",
    "display(pred_df.sample(20))"
   ]
  },
  {
   "cell_type": "code",
   "execution_count": 16,
   "id": "249859e6-9604-4e7d-87ad-f196697b3366",
   "metadata": {},
   "outputs": [
    {
     "name": "stdout",
     "output_type": "stream",
     "text": [
      "Model Training & Evaluation summary written to ../outputs/profiling/model_training_evauation_summary.md\n"
     ]
    }
   ],
   "source": [
    "# Save summary\n",
    "summary_path = \"../outputs/profiling/model_training_evauation_summary.md\"\n",
    "with open(summary_path, \"w\") as f:\n",
    "    f.write(\"Model Training & Evaluation Summary\\n\\n\")\n",
    "    f.write(\"** Training progression: \\n\")\n",
    "    f.write(\"    * Started at 46.2% training accuracy in epoch 1 and steadily improved each epoch.\\n\")\n",
    "    f.write(\"    * By epoch 10, training accuracy reached 92.95%, and by epoch 15 it peaked at 96.39%. \\n\\n\")\n",
    "    f.write(\"** Validation performance: \\n\")\n",
    "    f.write(\"    * Validation accuracy climbed from 54.94% in epoch 1 to a high of 94.86% at epoch 11. \\n\")\n",
    "    f.write(\"    * After reducing the learning rate, val_accuracy stabilized around 94-95% through epoch 15. \\n\\n\")\n",
    "    f.write(\"** Final test accuracy: \\n\")\n",
    "    f.write(\"   *The model achieved 94.4% accuracy on the held-out test set. \\n\\n\")\n",
    "    f.write(\"** Per-class metrics(test set): \\n\")\n",
    "    f.write(\"   * Extreme Negative: Precision 98.1%, Recall 96.4%, F1 97.2% (2,695 samples)\\n\")\n",
    "    f.write(\"   * Negative: Precision 95%, Recall 90.8%, F1 92.8% (3,943 samples)\\n\")\n",
    "    f.write(\"   * Neutral: Precision 91.1%, Recall 97.0%, F1 93.9% (3,383 samples)\\n\\n\")\n",
    "    f.write(\"** Overall:\\n\")\n",
    "    f.write(\"   * Macro-averaged F1: 94.7%\\n\")\n",
    "    f.write(\"   * Weighted-averaged F1: 94.4%\\n\")\n",
    "    \n",
    "print(f\"Model Training & Evaluation summary written to {summary_path}\")"
   ]
  },
  {
   "cell_type": "code",
   "execution_count": null,
   "id": "8ecf765b-3f81-43ae-8c1c-57435f41f683",
   "metadata": {},
   "outputs": [],
   "source": []
  }
 ],
 "metadata": {
  "kernelspec": {
   "display_name": "Python 3.8 (TensorFlow)",
   "language": "python",
   "name": "tf-3.8"
  },
  "language_info": {
   "codemirror_mode": {
    "name": "ipython",
    "version": 3
   },
   "file_extension": ".py",
   "mimetype": "text/x-python",
   "name": "python",
   "nbconvert_exporter": "python",
   "pygments_lexer": "ipython3",
   "version": "3.8.10"
  }
 },
 "nbformat": 4,
 "nbformat_minor": 5
}
