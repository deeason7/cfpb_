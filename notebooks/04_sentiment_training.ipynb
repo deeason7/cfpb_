{
 "cells": [
  {
   "cell_type": "code",
   "execution_count": 1,
   "id": "fc118db6-3df9-40d3-a6d9-8bbba87c3039",
   "metadata": {},
   "outputs": [],
   "source": [
    "import numpy as np\n",
    "import pandas as pd\n",
    "import matplotlib.pyplot as plt\n",
    "import seaborn as sns"
   ]
  },
  {
   "cell_type": "code",
   "execution_count": 2,
   "id": "1a1204a4-d8b5-4c88-bdba-b91bfba04455",
   "metadata": {},
   "outputs": [],
   "source": [
    "import os\n",
    "import sys\n",
    "project_root = os.path.abspath(\"..\")\n",
    "if project_root not in sys.path:\n",
    "    sys.path.append(project_root)"
   ]
  },
  {
   "cell_type": "code",
   "execution_count": 3,
   "id": "62b50bfb-1416-4011-911c-ddb515937fea",
   "metadata": {},
   "outputs": [],
   "source": [
    "from src.modeling.train_sentiment import train_and_evaluate_sentiment"
   ]
  },
  {
   "cell_type": "code",
   "execution_count": 4,
   "id": "c50a8c94-8a17-4d70-828b-891cb5bd823c",
   "metadata": {},
   "outputs": [],
   "source": [
    "sns.set(style=\"whitegrid\")"
   ]
  },
  {
   "cell_type": "markdown",
   "id": "27f6d0ee-4b20-446b-8790-a1776a47da21",
   "metadata": {},
   "source": [
    "## Training & evaluation"
   ]
  },
  {
   "cell_type": "code",
   "execution_count": 5,
   "id": "abecb89e-70f7-44d2-ad74-123a2e4a3eab",
   "metadata": {},
   "outputs": [
    {
     "name": "stdout",
     "output_type": "stream",
     "text": [
      "Epoch 1/20\n",
      "418/418 - 87s - loss: 0.8740 - accuracy: 0.4798 - val_loss: 0.9004 - val_accuracy: 0.5684 - lr: 0.0010 - 87s/epoch - 209ms/step\n",
      "Epoch 2/20\n",
      "418/418 - 89s - loss: 0.6509 - accuracy: 0.6235 - val_loss: 0.7328 - val_accuracy: 0.6552 - lr: 0.0010 - 89s/epoch - 212ms/step\n",
      "Epoch 3/20\n",
      "418/418 - 89s - loss: 0.5952 - accuracy: 0.6626 - val_loss: 0.6840 - val_accuracy: 0.7066 - lr: 0.0010 - 89s/epoch - 214ms/step\n",
      "Epoch 4/20\n",
      "418/418 - 92s - loss: 0.4971 - accuracy: 0.7370 - val_loss: 0.5647 - val_accuracy: 0.7679 - lr: 0.0010 - 92s/epoch - 219ms/step\n",
      "Epoch 5/20\n",
      "418/418 - 92s - loss: 0.3792 - accuracy: 0.8070 - val_loss: 0.5326 - val_accuracy: 0.7784 - lr: 0.0010 - 92s/epoch - 221ms/step\n",
      "Epoch 6/20\n",
      "418/418 - 124s - loss: 0.4599 - accuracy: 0.7608 - val_loss: 0.5868 - val_accuracy: 0.7741 - lr: 0.0010 - 124s/epoch - 297ms/step\n",
      "Epoch 7/20\n",
      "418/418 - 96s - loss: 0.4039 - accuracy: 0.8016 - val_loss: 0.4947 - val_accuracy: 0.7976 - lr: 0.0010 - 96s/epoch - 230ms/step\n",
      "Epoch 8/20\n",
      "418/418 - 101s - loss: 0.3001 - accuracy: 0.8544 - val_loss: 0.4672 - val_accuracy: 0.8100 - lr: 0.0010 - 101s/epoch - 241ms/step\n",
      "Epoch 9/20\n",
      "418/418 - 102s - loss: 0.2536 - accuracy: 0.8811 - val_loss: 0.4382 - val_accuracy: 0.8258 - lr: 0.0010 - 102s/epoch - 243ms/step\n",
      "Epoch 10/20\n",
      "418/418 - 96s - loss: 0.2205 - accuracy: 0.8965 - val_loss: 0.4254 - val_accuracy: 0.8399 - lr: 0.0010 - 96s/epoch - 230ms/step\n",
      "Epoch 11/20\n",
      "418/418 - 102s - loss: 0.1747 - accuracy: 0.9174 - val_loss: 0.5562 - val_accuracy: 0.8073 - lr: 0.0010 - 102s/epoch - 243ms/step\n",
      "Epoch 12/20\n",
      "418/418 - 103s - loss: 0.1497 - accuracy: 0.9299 - val_loss: 0.4413 - val_accuracy: 0.8491 - lr: 0.0010 - 103s/epoch - 247ms/step\n",
      "Epoch 13/20\n",
      "418/418 - 104s - loss: 0.1006 - accuracy: 0.9565 - val_loss: 0.5114 - val_accuracy: 0.8476 - lr: 5.0000e-04 - 104s/epoch - 249ms/step\n",
      "418/418 [==============================] - 11s 25ms/step\n",
      " Sentiment model trained, evaluated, and outputs saved.\n",
      "Sentiment model pipeline executed.\n"
     ]
    }
   ],
   "source": [
    "# Step 1: Execute model training and evaluation\n",
    "train_and_evaluate_sentiment()\n",
    "print(\"Sentiment model pipeline executed.\")"
   ]
  },
  {
   "cell_type": "code",
   "execution_count": 7,
   "id": "d6623141-b2eb-40e0-a50f-eac6e83d8f32",
   "metadata": {},
   "outputs": [],
   "source": [
    "# Load metrics report\n",
    "import json\n",
    "with open(\"../outputs/sentiment_accuracy.txt\", \"r\") as f:\n",
    "    report = json.load(f)"
   ]
  },
  {
   "cell_type": "code",
   "execution_count": 8,
   "id": "0f769d72-86ba-4e7d-b65e-c506382172b4",
   "metadata": {},
   "outputs": [
    {
     "data": {
      "text/html": [
       "<div>\n",
       "<style scoped>\n",
       "    .dataframe tbody tr th:only-of-type {\n",
       "        vertical-align: middle;\n",
       "    }\n",
       "\n",
       "    .dataframe tbody tr th {\n",
       "        vertical-align: top;\n",
       "    }\n",
       "\n",
       "    .dataframe thead th {\n",
       "        text-align: right;\n",
       "    }\n",
       "</style>\n",
       "<table border=\"1\" class=\"dataframe\">\n",
       "  <thead>\n",
       "    <tr style=\"text-align: right;\">\n",
       "      <th></th>\n",
       "      <th>precision</th>\n",
       "      <th>recall</th>\n",
       "      <th>f1-score</th>\n",
       "      <th>support</th>\n",
       "    </tr>\n",
       "  </thead>\n",
       "  <tbody>\n",
       "    <tr>\n",
       "      <th>negative</th>\n",
       "      <td>0.706</td>\n",
       "      <td>0.844</td>\n",
       "      <td>0.769</td>\n",
       "      <td>2001.00</td>\n",
       "    </tr>\n",
       "    <tr>\n",
       "      <th>neutral</th>\n",
       "      <td>0.903</td>\n",
       "      <td>0.850</td>\n",
       "      <td>0.876</td>\n",
       "      <td>8805.00</td>\n",
       "    </tr>\n",
       "    <tr>\n",
       "      <th>positive</th>\n",
       "      <td>0.765</td>\n",
       "      <td>0.802</td>\n",
       "      <td>0.783</td>\n",
       "      <td>2556.00</td>\n",
       "    </tr>\n",
       "    <tr>\n",
       "      <th>accuracy</th>\n",
       "      <td>0.840</td>\n",
       "      <td>0.840</td>\n",
       "      <td>0.840</td>\n",
       "      <td>0.84</td>\n",
       "    </tr>\n",
       "    <tr>\n",
       "      <th>macro avg</th>\n",
       "      <td>0.791</td>\n",
       "      <td>0.832</td>\n",
       "      <td>0.809</td>\n",
       "      <td>13362.00</td>\n",
       "    </tr>\n",
       "    <tr>\n",
       "      <th>weighted avg</th>\n",
       "      <td>0.847</td>\n",
       "      <td>0.840</td>\n",
       "      <td>0.842</td>\n",
       "      <td>13362.00</td>\n",
       "    </tr>\n",
       "  </tbody>\n",
       "</table>\n",
       "</div>"
      ],
      "text/plain": [
       "              precision  recall  f1-score   support\n",
       "negative          0.706   0.844     0.769   2001.00\n",
       "neutral           0.903   0.850     0.876   8805.00\n",
       "positive          0.765   0.802     0.783   2556.00\n",
       "accuracy          0.840   0.840     0.840      0.84\n",
       "macro avg         0.791   0.832     0.809  13362.00\n",
       "weighted avg      0.847   0.840     0.842  13362.00"
      ]
     },
     "metadata": {},
     "output_type": "display_data"
    }
   ],
   "source": [
    "# Convert classification report to DataFrame\n",
    "report_df = pd.DataFrame(report).T\n",
    "report_df = report_df.round(3)\n",
    "display(report_df)"
   ]
  },
  {
   "cell_type": "code",
   "execution_count": 10,
   "id": "fd678fba-bd94-43a1-9c61-b853a3e49960",
   "metadata": {},
   "outputs": [
    {
     "data": {
      "text/plain": [
       "<Figure size 1000x400 with 0 Axes>"
      ]
     },
     "metadata": {},
     "output_type": "display_data"
    },
    {
     "name": "stderr",
     "output_type": "stream",
     "text": [
      "/Users/deeasonsitaula/.pyenv/versions/3.8.10/lib/python3.8/site-packages/IPython/core/pylabtools.py:152: UserWarning: Glyph 128202 (\\N{BAR CHART}) missing from current font.\n",
      "  fig.canvas.print_figure(bytes_io, **kw)\n"
     ]
    },
    {
     "data": {
      "image/png": "[encoded data removed]",
      "text/plain": [
       "<Figure size 640x480 with 1 Axes>"
      ]
     },
     "metadata": {},
     "output_type": "display_data"
    }
   ],
   "source": [
    "#  Visualize key performance metrics\n",
    "plt.figure(figsize=(10, 4))\n",
    "report_df.loc[[\"positive\", \"neutral\", \"negative\"], [\"precision\", \"recall\", \"f1-score\"]].plot(kind=\"bar\")\n",
    "plt.title(\"📊 Sentiment Classification Performance by Class\")\n",
    "plt.ylabel(\"Score\")\n",
    "plt.ylim(0, 1)\n",
    "plt.xticks(rotation=0)\n",
    "plt.grid(axis=\"y\", linestyle=\"--\", alpha=0.6)\n",
    "plt.show()"
   ]
  },
  {
   "cell_type": "code",
   "execution_count": 13,
   "id": "eb43c520-8c6f-4db1-adf8-fb9b681968e9",
   "metadata": {},
   "outputs": [
    {
     "data": {
      "text/html": [
       "<div>\n",
       "<style scoped>\n",
       "    .dataframe tbody tr th:only-of-type {\n",
       "        vertical-align: middle;\n",
       "    }\n",
       "\n",
       "    .dataframe tbody tr th {\n",
       "        vertical-align: top;\n",
       "    }\n",
       "\n",
       "    .dataframe thead th {\n",
       "        text-align: right;\n",
       "    }\n",
       "</style>\n",
       "<table border=\"1\" class=\"dataframe\">\n",
       "  <thead>\n",
       "    <tr style=\"text-align: right;\">\n",
       "      <th></th>\n",
       "      <th>true_sentiment</th>\n",
       "      <th>predicted_sentiment</th>\n",
       "    </tr>\n",
       "  </thead>\n",
       "  <tbody>\n",
       "    <tr>\n",
       "      <th>4368</th>\n",
       "      <td>neutral</td>\n",
       "      <td>neutral</td>\n",
       "    </tr>\n",
       "    <tr>\n",
       "      <th>7967</th>\n",
       "      <td>positive</td>\n",
       "      <td>neutral</td>\n",
       "    </tr>\n",
       "    <tr>\n",
       "      <th>477</th>\n",
       "      <td>neutral</td>\n",
       "      <td>neutral</td>\n",
       "    </tr>\n",
       "    <tr>\n",
       "      <th>8574</th>\n",
       "      <td>negative</td>\n",
       "      <td>negative</td>\n",
       "    </tr>\n",
       "    <tr>\n",
       "      <th>1250</th>\n",
       "      <td>neutral</td>\n",
       "      <td>neutral</td>\n",
       "    </tr>\n",
       "    <tr>\n",
       "      <th>10946</th>\n",
       "      <td>neutral</td>\n",
       "      <td>neutral</td>\n",
       "    </tr>\n",
       "    <tr>\n",
       "      <th>9315</th>\n",
       "      <td>neutral</td>\n",
       "      <td>neutral</td>\n",
       "    </tr>\n",
       "    <tr>\n",
       "      <th>972</th>\n",
       "      <td>neutral</td>\n",
       "      <td>neutral</td>\n",
       "    </tr>\n",
       "    <tr>\n",
       "      <th>2775</th>\n",
       "      <td>positive</td>\n",
       "      <td>neutral</td>\n",
       "    </tr>\n",
       "    <tr>\n",
       "      <th>5594</th>\n",
       "      <td>neutral</td>\n",
       "      <td>positive</td>\n",
       "    </tr>\n",
       "    <tr>\n",
       "      <th>204</th>\n",
       "      <td>neutral</td>\n",
       "      <td>neutral</td>\n",
       "    </tr>\n",
       "    <tr>\n",
       "      <th>8949</th>\n",
       "      <td>neutral</td>\n",
       "      <td>neutral</td>\n",
       "    </tr>\n",
       "    <tr>\n",
       "      <th>7814</th>\n",
       "      <td>neutral</td>\n",
       "      <td>neutral</td>\n",
       "    </tr>\n",
       "    <tr>\n",
       "      <th>8811</th>\n",
       "      <td>positive</td>\n",
       "      <td>neutral</td>\n",
       "    </tr>\n",
       "    <tr>\n",
       "      <th>5718</th>\n",
       "      <td>neutral</td>\n",
       "      <td>neutral</td>\n",
       "    </tr>\n",
       "    <tr>\n",
       "      <th>1529</th>\n",
       "      <td>positive</td>\n",
       "      <td>positive</td>\n",
       "    </tr>\n",
       "    <tr>\n",
       "      <th>7635</th>\n",
       "      <td>neutral</td>\n",
       "      <td>negative</td>\n",
       "    </tr>\n",
       "    <tr>\n",
       "      <th>12653</th>\n",
       "      <td>positive</td>\n",
       "      <td>positive</td>\n",
       "    </tr>\n",
       "    <tr>\n",
       "      <th>512</th>\n",
       "      <td>positive</td>\n",
       "      <td>positive</td>\n",
       "    </tr>\n",
       "    <tr>\n",
       "      <th>1087</th>\n",
       "      <td>positive</td>\n",
       "      <td>positive</td>\n",
       "    </tr>\n",
       "  </tbody>\n",
       "</table>\n",
       "</div>"
      ],
      "text/plain": [
       "      true_sentiment predicted_sentiment\n",
       "4368         neutral             neutral\n",
       "7967        positive             neutral\n",
       "477          neutral             neutral\n",
       "8574        negative            negative\n",
       "1250         neutral             neutral\n",
       "10946        neutral             neutral\n",
       "9315         neutral             neutral\n",
       "972          neutral             neutral\n",
       "2775        positive             neutral\n",
       "5594         neutral            positive\n",
       "204          neutral             neutral\n",
       "8949         neutral             neutral\n",
       "7814         neutral             neutral\n",
       "8811        positive             neutral\n",
       "5718         neutral             neutral\n",
       "1529        positive            positive\n",
       "7635         neutral            negative\n",
       "12653       positive            positive\n",
       "512         positive            positive\n",
       "1087        positive            positive"
      ]
     },
     "metadata": {},
     "output_type": "display_data"
    }
   ],
   "source": [
    "#  Sample predictions\n",
    "pred_df = pd.read_csv(\"../outputs/predictions_sentiment.csv\")\n",
    "display(pred_df.sample(20))"
   ]
  },
  {
   "cell_type": "code",
   "execution_count": null,
   "id": "1d674a65-342b-494b-bc7d-b35b73aa5c73",
   "metadata": {},
   "outputs": [],
   "source": []
  }
 ],
 "metadata": {
  "kernelspec": {
   "display_name": "Python 3.8 (TensorFlow)",
   "language": "python",
   "name": "tf-3.8"
  },
  "language_info": {
   "codemirror_mode": {
    "name": "ipython",
    "version": 3
   },
   "file_extension": ".py",
   "mimetype": "text/x-python",
   "name": "python",
   "nbconvert_exporter": "python",
   "pygments_lexer": "ipython3",
   "version": "3.8.10"
  }
 },
 "nbformat": 4,
 "nbformat_minor": 5
}
