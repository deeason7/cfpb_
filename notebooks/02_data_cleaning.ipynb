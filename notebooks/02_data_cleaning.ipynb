{
 "cells": [
  {
   "cell_type": "code",
   "execution_count": 1,
   "id": "3c7548e2-d3c5-4be4-961d-ddf0149f7ee9",
   "metadata": {},
   "outputs": [],
   "source": [
    "import pandas as pd"
   ]
  },
  {
   "cell_type": "code",
   "execution_count": 4,
   "id": "a7f5a0b5-e020-4b3a-b14a-24ca52eac623",
   "metadata": {},
   "outputs": [],
   "source": [
    "import os\n",
    "import sys\n",
    "project_root = os.path.abspath(\"..\")\n",
    "if project_root not in sys.path:\n",
    "    sys.path.append(project_root)"
   ]
  },
  {
   "cell_type": "code",
   "execution_count": 6,
   "id": "2cc00f51-68c5-4e3e-b646-c8a3b9c03fc2",
   "metadata": {},
   "outputs": [],
   "source": [
    "from src.preprocessing.cleaner import clean_complaints_df\n",
    "from src.preprocessing.transformer import transform_features"
   ]
  },
  {
   "cell_type": "code",
   "execution_count": 8,
   "id": "5482d6aa-1d9c-4c06-a347-7c19c3477659",
   "metadata": {},
   "outputs": [],
   "source": [
    "# Load raw data\n",
    "df_raw = pd.read_csv(\"../data/raw/consumer_complaints.csv\", low_memory=False)"
   ]
  },
  {
   "cell_type": "code",
   "execution_count": 10,
   "id": "f6818ef0-405b-49cf-b574-ab5b17c7568a",
   "metadata": {},
   "outputs": [],
   "source": [
    "# Apply cleaning\n",
    "df_cleaned = clean_complaints_df(df_raw)"
   ]
  },
  {
   "cell_type": "code",
   "execution_count": 11,
   "id": "b7e34ce3-14fe-489a-90c5-467f3b05fdcc",
   "metadata": {},
   "outputs": [],
   "source": [
    "# Apply feature transformation\n",
    "df_transformed = transform_features(df_cleaned)"
   ]
  },
  {
   "cell_type": "code",
   "execution_count": 13,
   "id": "21be43f3-888f-4928-ac89-b5acd6abe8aa",
   "metadata": {},
   "outputs": [
    {
     "name": "stdout",
     "output_type": "stream",
     "text": [
      "Cleaned & processed data saved.\n"
     ]
    }
   ],
   "source": [
    "# Save cleaned and transformed data\n",
    "df_transformed.to_csv(\"../data/processed/clean_consumer_complaints.csv\", index=False)\n",
    "print(\"Cleaned & processed data saved.\")"
   ]
  },
  {
   "cell_type": "code",
   "execution_count": 17,
   "id": "85d2aee4-887b-47a0-9c78-ac5c4418ac85",
   "metadata": {},
   "outputs": [
    {
     "name": "stdout",
     "output_type": "stream",
     "text": [
      "Summary written to ../outputs/profiling/preprocessing_summary.md\n"
     ]
    }
   ],
   "source": [
    "#Summary\n",
    "retained_records = df_transformed.shape[0]\n",
    "sample_text = df_transformed['text_cleaned'].iloc[0]\n",
    "\n",
    "summary_path = \"../outputs/profiling/preprocessing_summary.md\"\n",
    "dropped_columns = [\n",
    "    \"tags\", \"company_public_response\", \"consumer_consent_provided\",\n",
    "    \"consumer_complaint_narrative\", \"complaint_id\", \"date_received\", \"date_sent_to_company\",\n",
    "    \"submitted_via\", \"zipcode\", \"sub_issue\", \"sub_product\", \n",
    "    \"consumer_disputed?\", \"company_response_to_consumer\"\n",
    "]\n",
    "with open(summary_path, \"w\") as f:\n",
    "    f.write(\"### Preprocessing Summary\\n\\n\")\n",
    "    f.write(f\"- Records with complaint narrative retained: {retained_records:,}\\n\")\n",
    "    f.write(f\"- Dropped columns: {', '.join(dropped_columns)}\\n\")\n",
    "    f.write(\"- Cleaned text: Lowercased, special chars/HTML/URLs/emails removed, extra whitespace stripped\\n\")\n",
    "    f.write(\"- Binary and encoded fields added: `consumer_disputed_binary`, `timely_response_binary`, `company_response_encoded`\\n\")\n",
    "    f.write(\"- Text length feature added\\n\")\n",
    "    f.write(\"- State nulls filled with 'Unknown'\\n\")\n",
    "    f.write(\"\\n---\\n\\n\")\n",
    "    f.write(\"####  Sample Cleaned Complaint\\n\")\n",
    "    f.write(f\"> {sample_text}\\n\")\n",
    "\n",
    "print(f\"Summary written to {summary_path}\")"
   ]
  },
  {
   "cell_type": "code",
   "execution_count": null,
   "id": "20713cab-ea48-4544-9eab-1472c5ec45d7",
   "metadata": {},
   "outputs": [],
   "source": []
  }
 ],
 "metadata": {
  "kernelspec": {
   "display_name": "Python 3.8 (TensorFlow)",
   "language": "python",
   "name": "tf-3.8"
  },
  "language_info": {
   "codemirror_mode": {
    "name": "ipython",
    "version": 3
   },
   "file_extension": ".py",
   "mimetype": "text/x-python",
   "name": "python",
   "nbconvert_exporter": "python",
   "pygments_lexer": "ipython3",
   "version": "3.8.10"
  }
 },
 "nbformat": 4,
 "nbformat_minor": 5
}
