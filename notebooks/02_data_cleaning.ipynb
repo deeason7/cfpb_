{
 "cells": [
  {
   "cell_type": "code",
   "execution_count": 1,
   "id": "3c7548e2-d3c5-4be4-961d-ddf0149f7ee9",
   "metadata": {},
   "outputs": [],
   "source": [
    "import pandas as pd"
   ]
  },
  {
   "cell_type": "code",
   "execution_count": 2,
   "id": "a7f5a0b5-e020-4b3a-b14a-24ca52eac623",
   "metadata": {},
   "outputs": [],
   "source": [
    "import os\n",
    "import sys\n",
    "project_root = os.path.abspath(\"..\")\n",
    "if project_root not in sys.path:\n",
    "    sys.path.append(project_root)"
   ]
  },
  {
   "cell_type": "code",
   "execution_count": 3,
   "id": "2cc00f51-68c5-4e3e-b646-c8a3b9c03fc2",
   "metadata": {},
   "outputs": [
    {
     "name": "stderr",
     "output_type": "stream",
     "text": [
      "[nltk_data] Downloading package punkt to\n",
      "[nltk_data]     /Users/deeasonsitaula/nltk_data...\n",
      "[nltk_data]   Package punkt is already up-to-date!\n",
      "[nltk_data] Downloading package averaged_perceptron_tagger to\n",
      "[nltk_data]     /Users/deeasonsitaula/nltk_data...\n",
      "[nltk_data]   Package averaged_perceptron_tagger is already up-to-\n",
      "[nltk_data]       date!\n"
     ]
    }
   ],
   "source": [
    "from src.preprocessing.cleaner import clean_complaints_df\n",
    "from src.preprocessing.transformer import transform_features"
   ]
  },
  {
   "cell_type": "code",
   "execution_count": 4,
   "id": "5482d6aa-1d9c-4c06-a347-7c19c3477659",
   "metadata": {},
   "outputs": [],
   "source": [
    "# Load raw data\n",
    "df_raw = pd.read_csv(\"../data/raw/consumer_complaints.csv\", low_memory=False)"
   ]
  },
  {
   "cell_type": "code",
   "execution_count": 5,
   "id": "f6818ef0-405b-49cf-b574-ab5b17c7568a",
   "metadata": {},
   "outputs": [],
   "source": [
    "# Apply cleaning\n",
    "df_cleaned = clean_complaints_df(df_raw)"
   ]
  },
  {
   "cell_type": "code",
   "execution_count": 6,
   "id": "b7e34ce3-14fe-489a-90c5-467f3b05fdcc",
   "metadata": {},
   "outputs": [],
   "source": [
    "# Apply feature transformation\n",
    "df_transformed = transform_features(df_cleaned)"
   ]
  },
  {
   "cell_type": "code",
   "execution_count": 7,
   "id": "21be43f3-888f-4928-ac89-b5acd6abe8aa",
   "metadata": {},
   "outputs": [
    {
     "name": "stdout",
     "output_type": "stream",
     "text": [
      "Cleaned & processed data saved.\n"
     ]
    }
   ],
   "source": [
    "# Save cleaned and transformed data\n",
    "df_transformed.to_csv(\"../data/processed/clean_consumer_complaints.csv\", index=False)\n",
    "print(\"Cleaned & processed data saved.\")"
   ]
  },
  {
   "cell_type": "code",
   "execution_count": 8,
   "id": "85d2aee4-887b-47a0-9c78-ac5c4418ac85",
   "metadata": {},
   "outputs": [
    {
     "name": "stdout",
     "output_type": "stream",
     "text": [
      "Summary written to ../outputs/profiling/preprocessing_summary.md\n"
     ]
    }
   ],
   "source": [
    "#  Save Preprocessing Summary \n",
    "\n",
    "retained_records = df_transformed.shape[0]\n",
    "sample_text = df_transformed['text_cleaned'].iloc[0]\n",
    "\n",
    "summary_path = \"../outputs/profiling/preprocessing_summary.md\"\n",
    "dropped_columns = [\n",
    "    \"tags\", \"company_public_response\", \"consumer_consent_provided\",\n",
    "    \"consumer_complaint_narrative\", \"complaint_id\", \"date_received\", \"date_sent_to_company\",\n",
    "    \"submitted_via\", \"zipcode\", \"sub_issue\", \"sub_product\",\n",
    "    \"consumer_disputed?\", \"company_response_to_consumer\"\n",
    "]\n",
    "\n",
    "with open(summary_path, \"w\") as f:\n",
    "    f.write(\"##  Sprint 2: Deep Preprocessing Summary\\n\\n\")\n",
    "    f.write(f\"**Records Retained:** {retained_records:,}\\n\\n\")\n",
    "    \n",
    "    f.write(\"###  Major Preprocessing Steps:\\n\")\n",
    "    f.write(\"- Dropped columns irrelevant for sentiment modeling: \" + \", \".join(dropped_columns) + \"\\n\")\n",
    "    f.write(\"- Text cleaning applied: Lowercased, special characters/HTML/URLs/emails/numbers removed, normalized spacing.\\n\")\n",
    "    f.write(\"- Smart Weak Sentiment Labeling using:\\n\")\n",
    "    f.write(\"  - TextBlob polarity & subjectivity\\n\")\n",
    "    f.write(\"  - Keyword-based checks (extreme negative, negative, neutral indicators)\\n\")\n",
    "    f.write(\"  - POS tagging for emphasis and negation adjustments\\n\")\n",
    "    f.write(\"- Added Encoded/Binary Columns:\\n\")\n",
    "    f.write(\"  - `consumer_disputed_binary`\\n\")\n",
    "    f.write(\"  - `timely_response_binary`\\n\")\n",
    "    f.write(\"  - `sentiment_encoded` (0: Neutral, 1: Negative, 2: Extreme Negative)\\n\")\n",
    "    f.write(\"- Added Features:\\n\")\n",
    "    f.write(\"  - `text_length` (word count of cleaned text)\\n\")\n",
    "    f.write(\"  - `product_dispute_rate` (target encoding with smoothing)\\n\")\n",
    "    f.write(\"  - `company_dispute_rate` (target encoding with smoothing)\\n\")\n",
    "    f.write(\"  - `sentiment_timely_interaction` (sentiment * timely response)\\n\")\n",
    "    f.write(\"  - `company_timely_interaction` (company dispute rate * timely response)\\n\")\n",
    "    f.write(\"- Missing states filled with 'Unknown'.\\n\")\n",
    "    f.write(\"- Carefully preserved complaint narratives with sufficient information.\\n\")\n",
    "    \n",
    "    f.write(\"\\n---\\n\\n\")\n",
    "    f.write(\"### 📋 Sample of a Cleaned Complaint Narrative:\\n\\n\")\n",
    "    f.write(f\"> {sample_text}\\n\")\n",
    "\n",
    "print(f\"✅ Preprocessing summary written to {summary_path}\")\n"
   ]
  }
 ],
 "metadata": {
  "kernelspec": {
   "display_name": "Python 3.8 (TensorFlow)",
   "language": "python",
   "name": "tf-3.8"
  },
  "language_info": {
   "codemirror_mode": {
    "name": "ipython",
    "version": 3
   },
   "file_extension": ".py",
   "mimetype": "text/x-python",
   "name": "python",
   "nbconvert_exporter": "python",
   "pygments_lexer": "ipython3",
   "version": "3.8.10"
  }
 },
 "nbformat": 4,
 "nbformat_minor": 5
}
